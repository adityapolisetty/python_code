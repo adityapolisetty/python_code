{
 "cells": [
  {
   "cell_type": "markdown",
   "metadata": {},
   "source": [
    "# Importing packages"
   ]
  },
  {
   "cell_type": "code",
   "execution_count": null,
   "metadata": {},
   "outputs": [],
   "source": [
    "from datetime import datetime\n",
    "import requests\n",
    "import pandas as pd\n",
    "import numpy as np\n",
    "import seaborn as sns\n",
    "import matplotlib.pyplot as plt\n",
    "import os\n",
    "import io, json"
   ]
  },
  {
   "cell_type": "markdown",
   "metadata": {},
   "source": [
    "### Beep code"
   ]
  },
  {
   "cell_type": "code",
   "execution_count": null,
   "metadata": {},
   "outputs": [],
   "source": [
    "import winsound\n",
    "duration = 500  # milliseconds\n",
    "freq = 240  # Hz"
   ]
  },
  {
   "cell_type": "markdown",
   "metadata": {},
   "source": [
    "# Coin List and related data"
   ]
  },
  {
   "cell_type": "code",
   "execution_count": null,
   "metadata": {},
   "outputs": [],
   "source": [
    "os.chdir('D:\\Dropbox\\Dropbox\\ADITYA-CRYPTO\\CODES\\OUTPUT\\SOCIAL_DATA')\n",
    "\n",
    "def coin_list():\n",
    "    url = 'https://min-api.cryptocompare.com/data/all/coinlist'\n",
    "    page = requests.get(url)\n",
    "    data = page.json()['Data']\n",
    "    return data\n",
    "\n",
    "data = coin_list()"
   ]
  },
  {
   "cell_type": "code",
   "execution_count": null,
   "metadata": {},
   "outputs": [],
   "source": [
    "import io, json\n",
    "with io.open('coin_list.json', 'w', encoding='utf-8') as f:\n",
    "  f.write(json.dumps(data, ensure_ascii= True))\n",
    "\n",
    "df = json.load(open(\"coin_list.json\", \"r\"))\n",
    "df = pd.DataFrame.from_dict(data, orient=\"index\")\n",
    "\n",
    "coin_list = df['Symbol']\n",
    "df.to_csv (r'coin_list.csv', index = None)"
   ]
  },
  {
   "cell_type": "code",
   "execution_count": null,
   "metadata": {},
   "outputs": [],
   "source": [
    "df1 = []\n",
    "i=0\n",
    "for coin in coin_list:\n",
    "  try:\n",
    "    i+=1\n",
    "    print(i)\n",
    "    url = 'https://min-api.cryptocompare.com/data/v2/histoday?fsym={}&tsym=USD&limit=2000&api_key=19329eecd83f2fc87469e0e49f5e5c4154a347643d645f416a12f305e95d7e65'.format(coin)\n",
    "    # url = str(url)\n",
    "    print(url)\n",
    "    page = requests.get(url)\n",
    "    data = page.json()['Data']\n",
    "\n",
    "    # print(data)\n",
    "    data = data['Data']\n",
    "\n",
    "    with io.open('hist_data.json', 'w', encoding='utf-8') as f:\n",
    "      f.write(json.dumps(data, ensure_ascii= False))\n",
    "\n",
    "    df = pd.read_json (r'hist_data.json')\n",
    "    # print(df)\n",
    "    df['time'] = [datetime.fromtimestamp(x) for x in df['time']]\n",
    "    df['time'] = pd.to_datetime(df['time']).dt.strftime('%d-%m-%y')\n",
    "    df['ticker'] = str(coin)\n",
    "    df1.append(df)\n",
    "\n",
    "  except:\n",
    "    pass\n",
    "\n",
    "df_final = pd.concat(df1)\n",
    "df_final.to_hdf(r'hist_data.hd5', key='df',  index = None)\n",
    "\n",
    "winsound.Beep(freq, duration)\n"
   ]
  },
  {
   "cell_type": "code",
   "execution_count": null,
   "metadata": {},
   "outputs": [],
   "source": [
    "# os.chdir('D:\\Dropbox\\Dropbox\\ADITYA-CRYPTO\\CODES\\BTC_DATA')\n",
    "\n",
    "def BTC_data():\n",
    "    url = 'https://min-api.cryptocompare.com/data/blockchain/histo/day?fsym=x42&limit=2000&api_key=19329eecd83f2fc87469e0e49f5e5c4154a347643d645f416a12f305e95d7e65'\n",
    "    page = requests.get(url)\n",
    "    data = page.json()['Data']\n",
    "    return data\n",
    "\n",
    "data = BTC_data()['Data']"
   ]
  },
  {
   "cell_type": "markdown",
   "metadata": {},
   "source": [
    "# Social Data - Extraction"
   ]
  },
  {
   "cell_type": "code",
   "execution_count": null,
   "metadata": {},
   "outputs": [],
   "source": [
    "def social_data():\n",
    "    url = 'https://min-api.cryptocompare.com/data/social/coin/histo/day?&limit=2000&api_key=19329eecd83f2fc87469e0e49f5e5c4154a347643d645f416a12f305e95d7e65'\n",
    "    page = requests.get(url)\n",
    "    data = page.json()['Data']\n",
    "    return data\n",
    "\n",
    "data = social_data()"
   ]
  },
  {
   "cell_type": "code",
   "execution_count": null,
   "metadata": {},
   "outputs": [],
   "source": [
    "import io, json\n",
    "with io.open('social_data.json', 'w', encoding='utf-8') as f:\n",
    "  f.write(json.dumps(data, ensure_ascii= False))\n",
    "\n",
    " \n",
    "df = pd.read_json (r'social_data.json')\n",
    "df['time'] = [datetime.fromtimestamp(x) for x in df['time']]\n",
    "df['time'] = pd.to_datetime(df['time']).dt.strftime('%d-%m-%y')\n",
    "\n",
    "df.drop(np.where(~(df.loc[:, df.columns != 'time']).any(axis=1))[0], axis=0, inplace=True)\n",
    "df['time_plot'] = pd.to_datetime(df['time']).dt.strftime('%m')\n",
    "df.to_csv (r'social_data.csv', index = None)"
   ]
  },
  {
   "cell_type": "markdown",
   "metadata": {},
   "source": [
    "#  Social Data - Graphs"
   ]
  },
  {
   "cell_type": "code",
   "execution_count": null,
   "metadata": {},
   "outputs": [],
   "source": [
    "# Level \n",
    "for column in df:\n",
    "    if column =='time':\n",
    "        continue\n",
    "    plot = df.plot(x='time', y=column , legend = None)\n",
    "    plot.set_title(column)\n",
    "    plot.tick_params(axis='x', rotation=90)\n",
    "    plt.savefig(r'plots/level/'+str(column)+'.png',dpi=600,bbox_inches='tight')\n",
    "    plt.clf()"
   ]
  },
  {
   "cell_type": "code",
   "execution_count": null,
   "metadata": {},
   "outputs": [],
   "source": [
    "# % change\n",
    "df1= df.drop(['time', 'time_plot'], axis=1)\n",
    "change = df1.div(df1.shift(1))\n",
    "change = change-1\n",
    "df3 = df['time']"
   ]
  },
  {
   "cell_type": "code",
   "execution_count": null,
   "metadata": {},
   "outputs": [],
   "source": [
    "df2 = pd.concat([change, df3], axis=1, join=\"inner\")\n",
    " \n",
    "for column in df:\n",
    "    if column =='time':\n",
    "        continue\n",
    "    plot = df2.plot(x='time', y=column , legend = None)\n",
    "    plot.set_title(column)\n",
    "    plot.tick_params(axis='x', rotation=90)\n",
    "    plt.savefig(r'plots/change/'+str(column)+'.png',dpi=600,bbox_inches='tight')\n",
    "    plt.clf()\n",
    "\n"
   ]
  },
  {
   "cell_type": "markdown",
   "metadata": {},
   "source": [
    "# BTC Data - Extraction"
   ]
  },
  {
   "cell_type": "code",
   "execution_count": null,
   "metadata": {},
   "outputs": [],
   "source": [
    "os.chdir('D:\\Dropbox\\Dropbox\\ADITYA-CRYPTO\\CODES\\BTC_DATA')\n",
    "\n",
    "def BTC_data():\n",
    "    url = 'https://min-api.cryptocompare.com/data/blockchain/histo/day?fsym=BTC&limit=2000&api_key=19329eecd83f2fc87469e0e49f5e5c4154a347643d645f416a12f305e95d7e65'\n",
    "    page = requests.get(url)\n",
    "    data = page.json()['Data']\n",
    "    return data\n",
    "\n",
    "data = BTC_data()['Data']"
   ]
  },
  {
   "cell_type": "code",
   "execution_count": null,
   "metadata": {},
   "outputs": [],
   "source": [
    "import io, json\n",
    "with io.open('btc_data.json', 'w', encoding='utf-8') as f:\n",
    "  f.write(json.dumps(data, ensure_ascii= False))\n",
    "\n",
    " \n",
    "df = pd.read_json (r'btc_data.json')\n",
    "df['time'] = [datetime.fromtimestamp(x) for x in df['time']]\n",
    "df['time'] = pd.to_datetime(df['time']).dt.strftime('%d-%m-%y')\n",
    "\n",
    "df.drop(np.where(~(df.loc[:, df.columns != 'time']).any(axis=1))[0], axis=0, inplace=True)\n",
    "df.to_csv (r'btc_data.csv', index = None)"
   ]
  },
  {
   "cell_type": "markdown",
   "metadata": {},
   "source": [
    "# BTC - Graphs"
   ]
  },
  {
   "cell_type": "code",
   "execution_count": null,
   "metadata": {},
   "outputs": [],
   "source": [
    "# Level \n",
    "first_column = df.pop('transaction_count_all_time')\n",
    "df.insert(5, \"transaction_count_all_time\", first_column)\n",
    "\n",
    "first_column = df.pop('time')\n",
    "df.insert(6, \"time\", first_column)\n",
    "\n",
    "df_plot = df.iloc[:, 6:]\n",
    "\n",
    "for column in df_plot:\n",
    "    if column =='time':\n",
    "        continue\n",
    "    plot = df_plot.plot(x='time', y=column , legend = None)\n",
    "    plot.set_title(column)\n",
    "    plot.tick_params(axis='x', rotation=90)\n",
    "    plt.savefig(r'plots/level/'+str(column)+'.png',dpi=600,bbox_inches='tight')\n",
    "    plt.clf()"
   ]
  },
  {
   "cell_type": "code",
   "execution_count": null,
   "metadata": {},
   "outputs": [],
   "source": [
    "# % change\n",
    "df1= df_plot.drop(['time'], axis=1)\n",
    "change = df1.div(df1.shift(1))\n",
    "change = change-1\n",
    "df3 = df_plot['time']"
   ]
  },
  {
   "cell_type": "code",
   "execution_count": null,
   "metadata": {},
   "outputs": [],
   "source": [
    "df2 = pd.concat([change, df3], axis=1, join=\"inner\")\n",
    " \n",
    "for column in df2:\n",
    "    if column =='time':\n",
    "        continue\n",
    "    plot = df2.plot(x='time', y=column , legend = None)\n",
    "    plot.set_title(column)\n",
    "    plot.tick_params(axis='x', rotation=90)\n",
    "    plt.savefig(r'plots/change/'+str(column)+'.png',dpi=600,bbox_inches='tight')\n",
    "    plt.clf()\n",
    "\n"
   ]
  },
  {
   "cell_type": "markdown",
   "metadata": {},
   "source": [
    "# Google Trends Data"
   ]
  },
  {
   "cell_type": "code",
   "execution_count": null,
   "metadata": {},
   "outputs": [],
   "source": [
    "import pandas as pd                        \n",
    "from pytrends.request import TrendReq\n",
    "from pytrends import dailydata\n",
    "import time"
   ]
  },
  {
   "cell_type": "markdown",
   "metadata": {},
   "source": [
    "### Scaled Data"
   ]
  },
  {
   "cell_type": "code",
   "execution_count": null,
   "metadata": {},
   "outputs": [],
   "source": [
    "kw = [\"bitcoin\", \"crypto\", \"cryptocurrency\", \"cryptocurrencies\", \"ethereum\", \"blockchain\"]\n",
    " \n",
    "df_final=[]\n",
    "for x in kw:\n",
    "    df2=[]\n",
    "    for i in range(2016, 2022):\n",
    "        if i ==2021:\n",
    "\n",
    "            df = dailydata.get_daily_data(x, start_year=2021, start_mon=1, stop_year=2021, stop_mon=10)[str(x)]\n",
    "            df2.append(df)\n",
    "            # time.sleep(1)\n",
    "        else:\n",
    "\n",
    "            df = dailydata.get_daily_data(x, start_year=i, start_mon=1, stop_year=i, stop_mon=12)[str(x)]\n",
    "            df2.append(df)\n",
    "            # time.sleep(1)\n",
    "    df2 = pd.concat(df2) \n",
    "    df_final.append(df2)\n",
    "    df_final1 = pd.concat(df_final, axis=1)\n",
    "df_final1.to_csv (r'TRENDS_data_scaled.csv')"
   ]
  },
  {
   "cell_type": "markdown",
   "metadata": {},
   "source": [
    "### Unscaled Data"
   ]
  },
  {
   "cell_type": "code",
   "execution_count": null,
   "metadata": {},
   "outputs": [],
   "source": [
    "\n",
    "kw = [\"bitcoin\", \"crypto\", \"cryptocurrency\", \"cryptocurrencies\", \"ethereum\", \"blockchain\"]\n",
    " \n",
    "df_final=[]\n",
    "for x in kw:\n",
    "    df2=[]\n",
    "    for i in range(2016, 2022):\n",
    "        if i ==2021:\n",
    "            df = dailydata.get_daily_data(x, start_year=2021, start_mon=1, stop_year=2021, stop_mon=10)[str(x)+'_unscaled']\n",
    "            df2.append(df)\n",
    "        else:\n",
    "            df = dailydata.get_daily_data(x, start_year=i, start_mon=1, stop_year=i, stop_mon=12)[str(x)+'_unscaled']\n",
    "            df2.append(df)\n",
    "    df2 = pd.concat(df2) \n",
    "    df_final.append(df2)\n",
    "    df_final1 = pd.concat(df_final, axis=1)\n",
    "df_final1.to_csv (r'TRENDS_data_unscaled.csv')"
   ]
  },
  {
   "cell_type": "markdown",
   "metadata": {},
   "source": [
    "# Glassnode Data"
   ]
  },
  {
   "cell_type": "code",
   "execution_count": null,
   "metadata": {},
   "outputs": [],
   "source": [
    "import pandas as pd                        \n",
    "from pytrends.request import TrendReq\n",
    "from pytrends import dailydata\n",
    "import time\n",
    "import requests"
   ]
  },
  {
   "cell_type": "code",
   "execution_count": null,
   "metadata": {},
   "outputs": [],
   "source": [
    "def glassnode():\n",
    "    API_KEY = '21h23ZDbBh3fJnve63rXhA4FvEG'\n",
    "    res =  requests.get('https://api.glassnode.com/v1/metrics/endpoints', params={'a': 'BTC', 'api_key': API_KEY})\n",
    "    data = pd.read_json(res.text, convert_dates=['t'])\n",
    "    return data\n",
    "\n",
    "metrics = glassnode()"
   ]
  },
  {
   "cell_type": "code",
   "execution_count": null,
   "metadata": {},
   "outputs": [],
   "source": [
    "metrics = metrics['Path']\n",
    "metrics"
   ]
  },
  {
   "cell_type": "code",
   "execution_count": null,
   "metadata": {},
   "outputs": [],
   "source": [
    "# create dataframe\n",
    "assets = [\"BTC\",\"ETH\",\"LTC\"]\n",
    "\n",
    "for asst in assets:\n",
    "    df1=[]\n",
    "    df= []\n",
    "    for path in metrics:\n",
    "        try:\n",
    "            API_KEY = '21h23ZDbBh3fJnve63rXhA4FvEG'\n",
    "            path2 = 'https://api.glassnode.com'+str(path)\n",
    "            res =  requests.get('https://api.glassnode.com'+str(path), params={'a': str(asst), 'api_key': API_KEY})\n",
    "            path2 = path2.rsplit('/', 1)[-1]\n",
    "            data = pd.read_json(res.text, convert_dates=['t'])\n",
    "            data = data.rename(columns={\"v\": str(path2)})\n",
    "            df.append(data)\n",
    "            time.sleep(5)  \n",
    "        except:\n",
    "            pass\n",
    "    df1 = pd.concat(df, axis=1) \n",
    "    df1.to_excel(str(asst)+\".xlsx\") "
   ]
  },
  {
   "cell_type": "code",
   "execution_count": null,
   "metadata": {},
   "outputs": [],
   "source": [
    "def glassnode():\n",
    "    API_KEY = '21h23ZDbBh3fJnve63rXhA4FvEG'\n",
    "    res =  requests.get('https://api.glassnode.com/v1/metrics/assets', params={'a': 'BTC', 'api_key': API_KEY})\n",
    "    data = pd.read_json(res.text, convert_dates=['t'])\n",
    "    return data\n",
    "\n",
    "assets = glassnode()"
   ]
  },
  {
   "cell_type": "markdown",
   "metadata": {},
   "source": [
    "# Sanbase"
   ]
  },
  {
   "cell_type": "code",
   "execution_count": null,
   "metadata": {},
   "outputs": [],
   "source": [
    "import san\n",
    "import pandas as pd\n",
    "import time"
   ]
  },
  {
   "cell_type": "code",
   "execution_count": null,
   "metadata": {},
   "outputs": [],
   "source": [
    "slugs = san.get(\"projects/all\")\n",
    "slugs[slugs[\"name\"]==\"Ripple\"]"
   ]
  },
  {
   "cell_type": "code",
   "execution_count": null,
   "metadata": {},
   "outputs": [],
   "source": [
    "san.available_metrics_for_slug(str(slug))"
   ]
  },
  {
   "cell_type": "code",
   "execution_count": null,
   "metadata": {},
   "outputs": [],
   "source": [
    "coins = [\"bitcoin\",\"ripple\",\"litecoin\", \"ethereum\"]\n",
    "\n",
    "\n",
    "for slug in coins: \n",
    "    df1= []\n",
    "    for i in range(49,349,50):\n",
    "        avail = san.available_metrics_for_slug(str(slug))[i-49:i]\n",
    "        try:\n",
    "            for metric in avail:\n",
    "                df = san.get(str(metric)+\"/\"+str(slug), from_date=\"2010-01-01\", to_date=\"2021-10-31\", interval=\"1d\")\n",
    "                df = df.rename(columns={\"value\": str(metric)})\n",
    "                df1.append(df)\n",
    "                \n",
    "        except:\n",
    "            pass \n",
    "        df_final = pd.concat(df1, axis=1)\n",
    "        time.sleep(3)\n",
    "\n",
    "    df_final.reset_index(inplace=True)\n",
    "    df_final[\"datetime\"] = df_final[\"datetime\"].apply(str)\n",
    "    df_final.to_excel(str(slug)+'.xlsx')\n",
    "    time.sleep(60)\n"
   ]
  },
  {
   "cell_type": "markdown",
   "metadata": {},
   "source": [
    "# CoinMetrics"
   ]
  },
  {
   "cell_type": "code",
   "execution_count": null,
   "metadata": {},
   "outputs": [],
   "source": [
    "import coinmetrics \n",
    "import pandas as pd"
   ]
  },
  {
   "cell_type": "code",
   "execution_count": null,
   "metadata": {},
   "outputs": [],
   "source": [
    "coins = [\"btc\",\"eth\",\"xrp\", \"ltc\"]\n",
    "\n",
    "\n",
    "for cns in coins: \n",
    "    df1= []\n",
    "    avail = cm.get_available_data_types_for_asset(str(cns))\n",
    "    try:\n",
    "        for metric in avail:\n",
    "            df = cm.get_asset_data_for_time_range(str(cns), str(metric), \"2010-01-01\", \"2021-10-31\")['series']\n",
    "            values= pd.DataFrame (df, columns = ['values'])\n",
    "            values = values.values.tolist()\n",
    "            values = [x[0] for x in values]\n",
    "            values= pd.DataFrame(values)\n",
    "            df2 = pd.DataFrame (df, columns = ['time'])\n",
    "            df3 = [df2, values]\n",
    "            df4 = pd.concat(df3, axis=1)\n",
    "            df4 = df4.rename(columns={0: str(metric)})\n",
    "            df1.append(df4)\n",
    "            \n",
    "    except:\n",
    "        pass\n",
    "    df_final = pd.concat(df1, axis=1)\n",
    "    df_final.reset_index(drop=True, inplace=True)\n",
    "    df_final = df_final.loc[:,~df_final.columns.duplicated()]\n",
    "    df_final.to_excel(str(cns)+'.xlsx')\n",
    "# time.sleep(60)\n"
   ]
  },
  {
   "cell_type": "code",
   "execution_count": null,
   "metadata": {},
   "outputs": [],
   "source": []
  }
 ],
 "metadata": {
  "interpreter": {
   "hash": "fb31098c90fcc844b1bf3da75227f70de42febdc378918803859775e97d8784b"
  },
  "kernelspec": {
   "display_name": "Python 3.8.8 64-bit ('base': conda)",
   "name": "python3"
  },
  "language_info": {
   "codemirror_mode": {
    "name": "ipython",
    "version": 3
   },
   "file_extension": ".py",
   "mimetype": "text/x-python",
   "name": "python",
   "nbconvert_exporter": "python",
   "pygments_lexer": "ipython3",
   "version": "3.8.8"
  },
  "orig_nbformat": 4
 },
 "nbformat": 4,
 "nbformat_minor": 2
}
