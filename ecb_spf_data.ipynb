{
 "cells": [
  {
   "cell_type": "markdown",
   "metadata": {},
   "source": [
    "### Importing Packages"
   ]
  },
  {
   "cell_type": "code",
   "execution_count": 2,
   "metadata": {},
   "outputs": [],
   "source": [
    "import requests\n",
    "import pandas as pd\n",
    "from pandasdmx import Request\n",
    "import io"
   ]
  },
  {
   "cell_type": "markdown",
   "metadata": {},
   "source": [
    "### Real GDP Data"
   ]
  },
  {
   "cell_type": "code",
   "execution_count": 15,
   "metadata": {},
   "outputs": [],
   "source": [
    "df2 = []\n",
    "for i in range(1999,2021):\n",
    "    for j in range(1,130):\n",
    "        try:\n",
    "            j = str(j).zfill(3)\n",
    "            entrypoint = 'https://sdw-wsrest.ecb.europa.eu/service/' # Using protocol 'https'\n",
    "            resource = 'data'           # The resource for data queries is always'data'\n",
    "            flowRef ='SPF'              # Dataflow describing the data that needs to be returned, exchange rates in this case\n",
    "            key = 'Q.U2.RGDP.POINT.'+str(i)+'.Q.'+str(j)    # Defining the dimension values, explained below\n",
    "\n",
    "            parameters = {\n",
    "                'startPeriod': '2000-01-01',  # Start date of the time series\n",
    "                # 'endPeriod': '2018-10-01'     # End of the time series\n",
    "            }\n",
    "\n",
    "            request_url = entrypoint + resource + '/'+ flowRef + '/' + key\n",
    "            response = requests.get(request_url, params=parameters, headers={'Accept': 'text/csv'})\n",
    "            df = pd.read_csv(io.StringIO(response.text))\n",
    "            df2.append(df)\n",
    "        except:\n",
    "            pass\n",
    "\n",
    "df_final = pd.concat(df2)\n",
    "df_final.to_csv(r\"C:\\Users\\Aditya Polisetty\\OneDrive - King's College London\\KCL\\Ana\\SPF\\RGDP_data.csv\", index=False)"
   ]
  },
  {
   "cell_type": "markdown",
   "metadata": {},
   "source": [
    "#### HICP Data"
   ]
  },
  {
   "cell_type": "code",
   "execution_count": 3,
   "metadata": {},
   "outputs": [],
   "source": [
    "df2 = []\n",
    "for i in range(1999,2021):\n",
    "    for j in range(1,130):\n",
    "        try:\n",
    "            j = str(j).zfill(3)\n",
    "            entrypoint = 'https://sdw-wsrest.ecb.europa.eu/service/' # Using protocol 'https'\n",
    "            resource = 'data'           # The resource for data queries is always'data'\n",
    "            flowRef ='SPF'              # Dataflow describing the data that needs to be returned, exchange rates in this case\n",
    "            key = 'Q.U2.HICP.POINT.'+str(i)+'.Q.'+str(j)    # Defining the dimension values, explained below\n",
    "\n",
    "            parameters = {\n",
    "                'startPeriod': '2000-01-01',  # Start date of the time series\n",
    "                # 'endPeriod': '2018-10-01'     # End of the time series\n",
    "            }\n",
    "\n",
    "            request_url = entrypoint + resource + '/'+ flowRef + '/' + key\n",
    "            response = requests.get(request_url, params=parameters, headers={'Accept': 'text/csv'})\n",
    "            df = pd.read_csv(io.StringIO(response.text))\n",
    "            df2.append(df)\n",
    "        except:\n",
    "            pass\n",
    "\n",
    "df_final = pd.concat(df2)\n",
    "df_final.to_csv(r\"C:\\Users\\Aditya Polisetty\\OneDrive - King's College London\\KCL\\Ana\\SPF\\HICP_data.csv\", index=False)"
   ]
  },
  {
   "cell_type": "code",
   "execution_count": null,
   "metadata": {},
   "outputs": [],
   "source": []
  }
 ],
 "metadata": {
  "interpreter": {
   "hash": "7b3dba9dbc01034e48ac1fe84ab7544715072fd112decf356785f8975aff928c"
  },
  "kernelspec": {
   "display_name": "Python 3.8.8 ('base')",
   "language": "python",
   "name": "python3"
  },
  "language_info": {
   "codemirror_mode": {
    "name": "ipython",
    "version": 3
   },
   "file_extension": ".py",
   "mimetype": "text/x-python",
   "name": "python",
   "nbconvert_exporter": "python",
   "pygments_lexer": "ipython3",
   "version": "3.8.8"
  },
  "orig_nbformat": 4
 },
 "nbformat": 4,
 "nbformat_minor": 2
}
