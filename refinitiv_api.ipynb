{
 "cells": [
  {
   "cell_type": "code",
   "execution_count": null,
   "metadata": {},
   "outputs": [],
   "source": [
    "import os\n",
    "import pandas as pd\n",
    "import logging\n",
    "from pathlib import Path\n",
    "import shutil\n",
    "\n",
    "import eikon as ek \n",
    "ek.set_app_key('dbece80752cb4d4089fbfe4a483d7a38c8f06b51')\n",
    " "
   ]
  },
  {
   "cell_type": "code",
   "execution_count": null,
   "metadata": {},
   "outputs": [],
   "source": [
    "# Create a list of forecasters\n",
    "\n",
    "forec=pd.read_excel(r\"C:\\Users\\K2149424\\OneDrive - King's College London\\KCL\\Ana\\forex_survey\\Data\\AUD_list.xlsx\")\n",
    "directory = r\"C:\\Users\\K2149424\\OneDrive - King's College London\\KCL\\Ana\\forex_survey\\Data\\list_forcasters\"\n",
    "i = 0 \n",
    "for filename in os.listdir(directory):\n",
    "    i += 1\n",
    "    if filename.endswith(\".xlsx\") :\n",
    "        df1 = pd.read_excel(os.path.join(directory, filename))\n",
    "        forec = pd.merge(forec, df1 , how='inner', on=['Contributor'])\n",
    "    else:\n",
    "        continue\n",
    "\n",
    "forec_list = forec[['RIC_y','Contributor']]\n",
    "forec_list = forec_list.drop_duplicates(subset=['Contributor'])\n",
    "forec_list.rename(columns={'RIC_x':'RIC'}, inplace=True)\n",
    "forec_list.to_excel(r\"C:\\Users\\K2149424\\OneDrive - King's College London\\KCL\\Ana\\forex_survey\\Data\\All.xlsx\")"
   ]
  },
  {
   "cell_type": "markdown",
   "metadata": {},
   "source": [
    "## Currency-wise forecaster file generator"
   ]
  },
  {
   "cell_type": "code",
   "execution_count": null,
   "metadata": {},
   "outputs": [],
   "source": [
    "currency = ['AUD','EUR','GBP','JPY','NZD','CHF','NOK','SEK', 'CAD']\n",
    "forec = pd.read_excel(r\"C:\\Users\\K2149424\\OneDrive - King's College London\\KCL\\Ana\\forex_survey\\Data\\All.xlsx\",converters={'RIC': lambda x: str(x)})\n",
    "forec = forec[['RIC']]\n",
    "freq = ['1M','3M','6M','1Y']\n",
    "\n",
    "\n",
    "for curr in currency:\n",
    "    directory = str(curr)\n",
    "    parent_dir = r\"C:\\Users\\K2149424\\OneDrive - King's College London\\KCL\\Ana\\forex_survey\\Data\\api_data\"\n",
    "    path = os.path.join(parent_dir, directory)\n",
    "    if os.path.exists(path):\n",
    "        shutil.rmtree(path)\n",
    "    os.mkdir(path)\n",
    "    for index, roww in forec.iterrows():\n",
    "        df1 = []\n",
    "        for row in freq :\n",
    "            try:\n",
    "                print(str(curr)+str(row)+'P='+str(roww['RIC']))\n",
    "                df = ek.get_timeseries(str(curr)+str(row)+'P='+str(roww['RIC']), fields='*', start_date='2005-01-01', end_date=None, interval='monthly')\n",
    "                df.rename(columns={'VALUE': str(curr)+str(row)+'P='+str(roww['RIC'])}, inplace=True)\n",
    "                df1.append(df)\n",
    "                time.sleep(5)\n",
    "                \n",
    "            except:\n",
    "                pass\n",
    "        if len(df1) != 0:\n",
    "            df_final =  pd.concat(df1, axis=1)  \n",
    "            df_final.dropna()\n",
    "            df_final.to_excel(str(curr)+\"_\"+str(roww['RIC'])+\".xlsx\") \n",
    "          \n"
   ]
  }
 ],
 "metadata": {
  "interpreter": {
   "hash": "7b3dba9dbc01034e48ac1fe84ab7544715072fd112decf356785f8975aff928c"
  },
  "kernelspec": {
   "display_name": "Python 3.8.8 64-bit ('base': conda)",
   "name": "python3"
  },
  "language_info": {
   "codemirror_mode": {
    "name": "ipython",
    "version": 3
   },
   "file_extension": ".py",
   "mimetype": "text/x-python",
   "name": "python",
   "nbconvert_exporter": "python",
   "pygments_lexer": "ipython3",
   "version": "3.8.8"
  },
  "orig_nbformat": 4
 },
 "nbformat": 4,
 "nbformat_minor": 2
}
